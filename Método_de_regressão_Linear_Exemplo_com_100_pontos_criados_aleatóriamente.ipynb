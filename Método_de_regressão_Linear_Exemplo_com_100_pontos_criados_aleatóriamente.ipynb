{
  "nbformat": 4,
  "nbformat_minor": 0,
  "metadata": {
    "colab": {
      "name": "Método de regressão Linear - Exemplo com 100 pontos criados aleatóriamente",
      "provenance": [],
      "collapsed_sections": [],
      "authorship_tag": "ABX9TyPCf1U/7oDhiyA58c3XJVm9",
      "include_colab_link": true
    },
    "kernelspec": {
      "name": "python3",
      "display_name": "Python 3"
    },
    "language_info": {
      "name": "python"
    }
  },
  "cells": [
    {
      "cell_type": "markdown",
      "metadata": {
        "id": "view-in-github",
        "colab_type": "text"
      },
      "source": [
        "<a href=\"https://colab.research.google.com/github/JorgeOrsi/Regress-o-Linear-/blob/main/M%C3%A9todo_de_regress%C3%A3o_Linear_Exemplo_com_100_pontos_criados_aleat%C3%B3riamente.ipynb\" target=\"_parent\"><img src=\"https://colab.research.google.com/assets/colab-badge.svg\" alt=\"Open In Colab\"/></a>"
      ]
    },
    {
      "cell_type": "code",
      "metadata": {
        "id": "OrejNlPDShlY",
        "colab": {
          "base_uri": "https://localhost:8080/"
        },
        "outputId": "f291f6bd-ff35-4844-ae12-429fab69a789"
      },
      "source": [
        "#Primeiro Vamos introduzir uma variável aleatória, uma variavel categórica binária e um erro associado aos nossos dados \n",
        "%matplotlib inline\n",
        "import scipy as sp\n",
        "import pandas as pd\n",
        "import matplotlib.pyplot as plt\n",
        "import statsmodels.formula.api as sm\n",
        "import numpy as np\n",
        "\n",
        "x = sp.random.normal(size=100)\n",
        "\n",
        "categoria = sp.random.binomial(n=1, p=.5, size=100)\n",
        "erro = sp.random.normal(size=100)"
      ],
      "execution_count": 1,
      "outputs": [
        {
          "output_type": "stream",
          "name": "stderr",
          "text": [
            "/usr/local/lib/python3.7/dist-packages/statsmodels/tools/_testing.py:19: FutureWarning: pandas.util.testing is deprecated. Use the functions in the public API at pandas.testing instead.\n",
            "  import pandas.util.testing as tm\n"
          ]
        }
      ]
    },
    {
      "cell_type": "code",
      "metadata": {
        "id": "EBBUi5TfSsXG"
      },
      "source": [
        "#Função de exemplo para plotar 100 pontos aleatórios para servir de exemplo ao método\n",
        "y = 3 + 2*x  + 1.5*categoria + erro"
      ],
      "execution_count": 2,
      "outputs": []
    },
    {
      "cell_type": "code",
      "metadata": {
        "colab": {
          "base_uri": "https://localhost:8080/",
          "height": 417
        },
        "id": "L0mLZwphS4sd",
        "outputId": "2e4bd38c-633e-4dc3-e061-2cbeb150e865"
      },
      "source": [
        "dic = {\"y\":y, \"x\":x, \"categoria\":categoria}\n",
        "dados = pd.DataFrame(data=dic)\n",
        "dados  \n",
        " #Visualiza o DataFrame"
      ],
      "execution_count": 3,
      "outputs": [
        {
          "output_type": "execute_result",
          "data": {
            "text/html": [
              "<div>\n",
              "<style scoped>\n",
              "    .dataframe tbody tr th:only-of-type {\n",
              "        vertical-align: middle;\n",
              "    }\n",
              "\n",
              "    .dataframe tbody tr th {\n",
              "        vertical-align: top;\n",
              "    }\n",
              "\n",
              "    .dataframe thead th {\n",
              "        text-align: right;\n",
              "    }\n",
              "</style>\n",
              "<table border=\"1\" class=\"dataframe\">\n",
              "  <thead>\n",
              "    <tr style=\"text-align: right;\">\n",
              "      <th></th>\n",
              "      <th>y</th>\n",
              "      <th>x</th>\n",
              "      <th>categoria</th>\n",
              "    </tr>\n",
              "  </thead>\n",
              "  <tbody>\n",
              "    <tr>\n",
              "      <th>0</th>\n",
              "      <td>6.498145</td>\n",
              "      <td>1.653734</td>\n",
              "      <td>0</td>\n",
              "    </tr>\n",
              "    <tr>\n",
              "      <th>1</th>\n",
              "      <td>10.587496</td>\n",
              "      <td>2.428272</td>\n",
              "      <td>0</td>\n",
              "    </tr>\n",
              "    <tr>\n",
              "      <th>2</th>\n",
              "      <td>5.056642</td>\n",
              "      <td>0.110804</td>\n",
              "      <td>0</td>\n",
              "    </tr>\n",
              "    <tr>\n",
              "      <th>3</th>\n",
              "      <td>5.772945</td>\n",
              "      <td>0.137706</td>\n",
              "      <td>1</td>\n",
              "    </tr>\n",
              "    <tr>\n",
              "      <th>4</th>\n",
              "      <td>9.871320</td>\n",
              "      <td>2.147891</td>\n",
              "      <td>1</td>\n",
              "    </tr>\n",
              "    <tr>\n",
              "      <th>...</th>\n",
              "      <td>...</td>\n",
              "      <td>...</td>\n",
              "      <td>...</td>\n",
              "    </tr>\n",
              "    <tr>\n",
              "      <th>95</th>\n",
              "      <td>0.325104</td>\n",
              "      <td>-0.985948</td>\n",
              "      <td>0</td>\n",
              "    </tr>\n",
              "    <tr>\n",
              "      <th>96</th>\n",
              "      <td>0.725938</td>\n",
              "      <td>-2.020172</td>\n",
              "      <td>1</td>\n",
              "    </tr>\n",
              "    <tr>\n",
              "      <th>97</th>\n",
              "      <td>2.185324</td>\n",
              "      <td>-1.056144</td>\n",
              "      <td>0</td>\n",
              "    </tr>\n",
              "    <tr>\n",
              "      <th>98</th>\n",
              "      <td>2.361133</td>\n",
              "      <td>-1.104680</td>\n",
              "      <td>1</td>\n",
              "    </tr>\n",
              "    <tr>\n",
              "      <th>99</th>\n",
              "      <td>-0.565644</td>\n",
              "      <td>-2.161648</td>\n",
              "      <td>0</td>\n",
              "    </tr>\n",
              "  </tbody>\n",
              "</table>\n",
              "<p>100 rows × 3 columns</p>\n",
              "</div>"
            ],
            "text/plain": [
              "            y         x  categoria\n",
              "0    6.498145  1.653734          0\n",
              "1   10.587496  2.428272          0\n",
              "2    5.056642  0.110804          0\n",
              "3    5.772945  0.137706          1\n",
              "4    9.871320  2.147891          1\n",
              "..        ...       ...        ...\n",
              "95   0.325104 -0.985948          0\n",
              "96   0.725938 -2.020172          1\n",
              "97   2.185324 -1.056144          0\n",
              "98   2.361133 -1.104680          1\n",
              "99  -0.565644 -2.161648          0\n",
              "\n",
              "[100 rows x 3 columns]"
            ]
          },
          "metadata": {},
          "execution_count": 3
        }
      ]
    },
    {
      "cell_type": "code",
      "metadata": {
        "colab": {
          "base_uri": "https://localhost:8080/",
          "height": 282
        },
        "id": "UuyfrfpiS7Gk",
        "outputId": "0333c38d-8184-4671-e6d8-3cc50f132c20"
      },
      "source": [
        "#Gráfico dos pontos gerados aleatóriamente\n",
        "plt.plot(x,y,\"bo\")"
      ],
      "execution_count": 4,
      "outputs": [
        {
          "output_type": "execute_result",
          "data": {
            "text/plain": [
              "[<matplotlib.lines.Line2D at 0x7f1fa6da7490>]"
            ]
          },
          "metadata": {},
          "execution_count": 4
        },
        {
          "output_type": "display_data",
          "data": {
            "image/png": "[encoded data removed]",
            "text/plain": [
              "<Figure size 432x288 with 1 Axes>"
            ]
          },
          "metadata": {
            "needs_background": "light"
          }
        }
      ]
    },
    {
      "cell_type": "code",
      "metadata": {
        "id": "Hfh3c1ScS9Zd"
      },
      "source": [
        "#Definindo a função fi(x) e os coeficientes alpha\n",
        "def g1(x):\n",
        "    return x\n",
        "def g2(x):\n",
        "    return 1\n",
        "\n",
        "\n",
        "gx = [g1,g2]\n",
        "alpha = [1,1]\n",
        "\n",
        "def q(x,gx,alpha):\n",
        "    q=0\n",
        "    for g, a in zip(gx, alpha):\n",
        "        q += g(x)*a\n",
        "    return (q)\n"
      ],
      "execution_count": 5,
      "outputs": []
    },
    {
      "cell_type": "code",
      "metadata": {
        "id": "O6wt9pY4S_xe"
      },
      "source": [
        "#Definindo nossa matriz \n",
        "k = len (gx)\n",
        "m = np.size(x)\n",
        "\n",
        "A = np.zeros([k,k])\n",
        "b = np.zeros([k])\n",
        "\n",
        "\n",
        "for i in range(k):\n",
        "    for n in range(m): \n",
        "         b[i] += y[n]*gx[i](x[n])\n",
        "    for j in range(k):\n",
        "         for n in range(m):\n",
        "                A[i,j] += gx[i](x[n])*gx[j](x[n])"
      ],
      "execution_count": 6,
      "outputs": []
    },
    {
      "cell_type": "code",
      "metadata": {
        "colab": {
          "base_uri": "https://localhost:8080/"
        },
        "id": "K3vq3RadTCEt",
        "outputId": "cff45b09-d6bd-4763-9ab0-bd1dff42b565"
      },
      "source": [
        "print (A,b)"
      ],
      "execution_count": 7,
      "outputs": [
        {
          "output_type": "stream",
          "name": "stdout",
          "text": [
            "[[ 99.36740019 -10.69861416]\n",
            " [-10.69861416 100.        ]] [164.99412778 349.28490435]\n"
          ]
        }
      ]
    },
    {
      "cell_type": "code",
      "metadata": {
        "colab": {
          "base_uri": "https://localhost:8080/"
        },
        "id": "eyv-yUF1TFot",
        "outputId": "a185a0b4-fc72-4596-95ff-ef0624245262"
      },
      "source": [
        "coef = np.linalg.solve(A,b)\n",
        "print(\"coef = \",coef)"
      ],
      "execution_count": 8,
      "outputs": [
        {
          "output_type": "stream",
          "name": "stdout",
          "text": [
            "coef =  [2.06024242 3.71326643]\n"
          ]
        }
      ]
    },
    {
      "cell_type": "code",
      "metadata": {
        "colab": {
          "base_uri": "https://localhost:8080/"
        },
        "id": "nzdxBnn3TG0N",
        "outputId": "3266a264-c132-427d-f56b-b6e3ecc86890"
      },
      "source": [
        "alpha = coef\n",
        "\n",
        "print(alpha)\n",
        "\n",
        "y_cal= q(x,gx,alpha)"
      ],
      "execution_count": 9,
      "outputs": [
        {
          "output_type": "stream",
          "name": "stdout",
          "text": [
            "[2.06024242 3.71326643]\n"
          ]
        }
      ]
    },
    {
      "cell_type": "code",
      "metadata": {
        "colab": {
          "base_uri": "https://localhost:8080/",
          "height": 282
        },
        "id": "2-juOU7UTIv1",
        "outputId": "9ed3df67-9097-4888-deba-1f07a17768e4"
      },
      "source": [
        "x_min = np.min(x)\n",
        "x_max = np.max(x)\n",
        "xx = np.linspace(x_min,x_max,1000)\n",
        "y_cal = q(xx,gx,alpha)\n",
        "plt.plot(x,y,\"ro\")\n",
        "plt.plot(xx,y_cal)"
      ],
      "execution_count": 10,
      "outputs": [
        {
          "output_type": "execute_result",
          "data": {
            "text/plain": [
              "[<matplotlib.lines.Line2D at 0x7f1fa68a2490>]"
            ]
          },
          "metadata": {},
          "execution_count": 10
        },
        {
          "output_type": "display_data",
          "data": {
            "image/png": "[encoded data removed]",
            "text/plain": [
              "<Figure size 432x288 with 1 Axes>"
            ]
          },
          "metadata": {
            "needs_background": "light"
          }
        }
      ]
    }
  ]
}